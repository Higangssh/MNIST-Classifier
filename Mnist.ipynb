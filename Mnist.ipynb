{
  "nbformat": 4,
  "nbformat_minor": 0,
  "metadata": {
    "colab": {
      "provenance": [],
      "gpuType": "T4",
      "authorship_tag": "ABX9TyOatvNn58t99YN5+mBcOxcY",
      "include_colab_link": true
    },
    "kernelspec": {
      "name": "python3",
      "display_name": "Python 3"
    },
    "language_info": {
      "name": "python"
    },
    "accelerator": "GPU"
  },
  "cells": [
    {
      "cell_type": "markdown",
      "metadata": {
        "id": "view-in-github",
        "colab_type": "text"
      },
      "source": [
        "<a href=\"https://colab.research.google.com/github/Higangssh/MNIST-Classifier/blob/main/Mnist.ipynb\" target=\"_parent\"><img src=\"https://colab.research.google.com/assets/colab-badge.svg\" alt=\"Open In Colab\"/></a>"
      ]
    },
    {
      "cell_type": "code",
      "execution_count": 2,
      "metadata": {
        "id": "e_6eVfHvs2DE"
      },
      "outputs": [],
      "source": [
        "import torch\n",
        "from torch import nn\n",
        "from torch.optim import SGD\n",
        "from torchvision import datasets, transforms\n",
        "from torch.utils.data import DataLoader\n",
        "import matplotlib.pyplot as plt\n",
        "import numpy as np"
      ]
    },
    {
      "cell_type": "code",
      "source": [
        "transform = transforms.ToTensor()\n",
        "\n",
        "# 학습 데이터\n",
        "trainset = datasets.MNIST(root='./data', train=True, download=True, transform=transform)\n",
        "trainloader = DataLoader(trainset, batch_size=256, shuffle=True)\n",
        "\n",
        "# 테스트 데이터\n",
        "testset = datasets.MNIST(root='./data', train=False, download=True, transform=transform)\n",
        "testloader = DataLoader(testset, batch_size=256, shuffle=False)"
      ],
      "metadata": {
        "colab": {
          "base_uri": "https://localhost:8080/"
        },
        "id": "JH9uguotwEEx",
        "outputId": "f08eaaec-8242-4fa7-cbda-074d098691a9"
      },
      "execution_count": 3,
      "outputs": [
        {
          "output_type": "stream",
          "name": "stdout",
          "text": [
            "Downloading http://yann.lecun.com/exdb/mnist/train-images-idx3-ubyte.gz\n",
            "Failed to download (trying next):\n",
            "HTTP Error 404: Not Found\n",
            "\n",
            "Downloading https://ossci-datasets.s3.amazonaws.com/mnist/train-images-idx3-ubyte.gz\n",
            "Downloading https://ossci-datasets.s3.amazonaws.com/mnist/train-images-idx3-ubyte.gz to ./data/MNIST/raw/train-images-idx3-ubyte.gz\n"
          ]
        },
        {
          "output_type": "stream",
          "name": "stderr",
          "text": [
            "100%|██████████| 9.91M/9.91M [00:00<00:00, 17.4MB/s]\n"
          ]
        },
        {
          "output_type": "stream",
          "name": "stdout",
          "text": [
            "Extracting ./data/MNIST/raw/train-images-idx3-ubyte.gz to ./data/MNIST/raw\n",
            "\n",
            "Downloading http://yann.lecun.com/exdb/mnist/train-labels-idx1-ubyte.gz\n",
            "Failed to download (trying next):\n",
            "HTTP Error 404: Not Found\n",
            "\n",
            "Downloading https://ossci-datasets.s3.amazonaws.com/mnist/train-labels-idx1-ubyte.gz\n",
            "Downloading https://ossci-datasets.s3.amazonaws.com/mnist/train-labels-idx1-ubyte.gz to ./data/MNIST/raw/train-labels-idx1-ubyte.gz\n"
          ]
        },
        {
          "output_type": "stream",
          "name": "stderr",
          "text": [
            "100%|██████████| 28.9k/28.9k [00:00<00:00, 477kB/s]\n"
          ]
        },
        {
          "output_type": "stream",
          "name": "stdout",
          "text": [
            "Extracting ./data/MNIST/raw/train-labels-idx1-ubyte.gz to ./data/MNIST/raw\n",
            "\n",
            "Downloading http://yann.lecun.com/exdb/mnist/t10k-images-idx3-ubyte.gz\n",
            "Failed to download (trying next):\n",
            "HTTP Error 404: Not Found\n",
            "\n",
            "Downloading https://ossci-datasets.s3.amazonaws.com/mnist/t10k-images-idx3-ubyte.gz\n",
            "Downloading https://ossci-datasets.s3.amazonaws.com/mnist/t10k-images-idx3-ubyte.gz to ./data/MNIST/raw/t10k-images-idx3-ubyte.gz\n"
          ]
        },
        {
          "output_type": "stream",
          "name": "stderr",
          "text": [
            "100%|██████████| 1.65M/1.65M [00:00<00:00, 4.38MB/s]\n"
          ]
        },
        {
          "output_type": "stream",
          "name": "stdout",
          "text": [
            "Extracting ./data/MNIST/raw/t10k-images-idx3-ubyte.gz to ./data/MNIST/raw\n",
            "\n",
            "Downloading http://yann.lecun.com/exdb/mnist/t10k-labels-idx1-ubyte.gz\n",
            "Failed to download (trying next):\n",
            "HTTP Error 404: Not Found\n",
            "\n",
            "Downloading https://ossci-datasets.s3.amazonaws.com/mnist/t10k-labels-idx1-ubyte.gz\n",
            "Downloading https://ossci-datasets.s3.amazonaws.com/mnist/t10k-labels-idx1-ubyte.gz to ./data/MNIST/raw/t10k-labels-idx1-ubyte.gz\n"
          ]
        },
        {
          "output_type": "stream",
          "name": "stderr",
          "text": [
            "100%|██████████| 4.54k/4.54k [00:00<00:00, 7.74MB/s]"
          ]
        },
        {
          "output_type": "stream",
          "name": "stdout",
          "text": [
            "Extracting ./data/MNIST/raw/t10k-labels-idx1-ubyte.gz to ./data/MNIST/raw\n",
            "\n"
          ]
        },
        {
          "output_type": "stream",
          "name": "stderr",
          "text": [
            "\n"
          ]
        }
      ]
    },
    {
      "cell_type": "code",
      "source": [
        "class Model(nn.Module):\n",
        "    def __init__(self, input_dim, n_dim):\n",
        "        super().__init__()\n",
        "        self.layer1 = nn.Linear(input_dim, n_dim)\n",
        "        self.layer2 = nn.Linear(n_dim, n_dim)\n",
        "        self.layer3 = nn.Linear(n_dim, 10)  # 출력이 10개\n",
        "        self.act = nn.ReLU()\n",
        "\n",
        "    def forward(self, x):\n",
        "        x = torch.flatten(x, start_dim=1)  # [B, 1, 28, 28] → [B, 784]\n",
        "        x = self.act(self.layer1(x))\n",
        "        x = self.act(self.layer2(x))\n",
        "        x = self.layer3(x)\n",
        "        return x\n",
        "\n",
        "model = Model(28*28, 1024).to('cuda')"
      ],
      "metadata": {
        "id": "mPIY_z6kwSvx"
      },
      "execution_count": 4,
      "outputs": []
    },
    {
      "cell_type": "code",
      "source": [
        "criterion = nn.CrossEntropyLoss()\n",
        "optimizer = SGD(model.parameters(), lr=0.001)"
      ],
      "metadata": {
        "id": "gWC6fGgpxXn1"
      },
      "execution_count": 5,
      "outputs": []
    },
    {
      "cell_type": "code",
      "source": [
        "def accuracy(model, dataloader):\n",
        "    model.eval()\n",
        "    cnt, acc = 0, 0\n",
        "    with torch.no_grad():\n",
        "        for inputs, labels in dataloader:\n",
        "            inputs, labels = inputs.to('cuda'), labels.to('cuda')\n",
        "            preds = model(inputs)\n",
        "            preds = torch.argmax(preds, dim=-1)\n",
        "            cnt += labels.size(0)\n",
        "            acc += (preds == labels).sum().item()\n",
        "    model.train()\n",
        "    return acc / cnt\n"
      ],
      "metadata": {
        "id": "sZOJVsqQxavs"
      },
      "execution_count": 6,
      "outputs": []
    },
    {
      "cell_type": "code",
      "source": [
        "n_epochs = 100\n",
        "train_accs = []\n",
        "test_accs = []\n",
        "\n",
        "for epoch in range(n_epochs):\n",
        "    total_loss = 0.\n",
        "    for inputs, labels in trainloader:\n",
        "        inputs, labels = inputs.to('cuda'), labels.to('cuda')\n",
        "\n",
        "        optimizer.zero_grad()\n",
        "        preds = model(inputs)\n",
        "        loss = criterion(preds, labels)\n",
        "        loss.backward()\n",
        "        optimizer.step()\n",
        "\n",
        "        total_loss += loss.item()\n",
        "\n",
        "    train_acc = accuracy(model, trainloader)\n",
        "    test_acc = accuracy(model, testloader)\n",
        "    train_accs.append(train_acc)\n",
        "    test_accs.append(test_acc)\n",
        "\n",
        "    print(f\"Epoch {epoch:3d} | Loss: {total_loss:.4f} | Train Acc: {train_acc:.4f} | Test Acc: {test_acc:.4f}\")\n"
      ],
      "metadata": {
        "colab": {
          "base_uri": "https://localhost:8080/"
        },
        "id": "nLs4SUTSxoXQ",
        "outputId": "733545bb-e2d5-459b-e973-36960912d86b"
      },
      "execution_count": 7,
      "outputs": [
        {
          "output_type": "stream",
          "name": "stdout",
          "text": [
            "Epoch   0 | Loss: 538.2354 | Train Acc: 0.2626 | Test Acc: 0.2583\n",
            "Epoch   1 | Loss: 534.3803 | Train Acc: 0.3580 | Test Acc: 0.3566\n",
            "Epoch   2 | Loss: 530.3592 | Train Acc: 0.4218 | Test Acc: 0.4228\n",
            "Epoch   3 | Loss: 526.0463 | Train Acc: 0.4703 | Test Acc: 0.4729\n",
            "Epoch   4 | Loss: 521.3022 | Train Acc: 0.5107 | Test Acc: 0.5145\n",
            "Epoch   5 | Loss: 516.0037 | Train Acc: 0.5426 | Test Acc: 0.5433\n",
            "Epoch   6 | Loss: 510.0143 | Train Acc: 0.5692 | Test Acc: 0.5690\n",
            "Epoch   7 | Loss: 503.1666 | Train Acc: 0.5924 | Test Acc: 0.5947\n",
            "Epoch   8 | Loss: 495.3443 | Train Acc: 0.6140 | Test Acc: 0.6177\n",
            "Epoch   9 | Loss: 486.2776 | Train Acc: 0.6318 | Test Acc: 0.6341\n",
            "Epoch  10 | Loss: 475.8784 | Train Acc: 0.6487 | Test Acc: 0.6544\n",
            "Epoch  11 | Loss: 463.9712 | Train Acc: 0.6638 | Test Acc: 0.6698\n",
            "Epoch  12 | Loss: 450.4048 | Train Acc: 0.6767 | Test Acc: 0.6830\n",
            "Epoch  13 | Loss: 435.1170 | Train Acc: 0.6879 | Test Acc: 0.6928\n",
            "Epoch  14 | Loss: 418.1927 | Train Acc: 0.6954 | Test Acc: 0.7015\n",
            "Epoch  15 | Loss: 399.8421 | Train Acc: 0.7050 | Test Acc: 0.7120\n",
            "Epoch  16 | Loss: 380.4530 | Train Acc: 0.7153 | Test Acc: 0.7223\n",
            "Epoch  17 | Loss: 360.3865 | Train Acc: 0.7271 | Test Acc: 0.7337\n",
            "Epoch  18 | Loss: 340.2816 | Train Acc: 0.7394 | Test Acc: 0.7485\n",
            "Epoch  19 | Loss: 320.5663 | Train Acc: 0.7510 | Test Acc: 0.7596\n",
            "Epoch  20 | Loss: 301.7179 | Train Acc: 0.7627 | Test Acc: 0.7710\n",
            "Epoch  21 | Loss: 284.1318 | Train Acc: 0.7734 | Test Acc: 0.7798\n",
            "Epoch  22 | Loss: 267.9021 | Train Acc: 0.7838 | Test Acc: 0.7911\n",
            "Epoch  23 | Loss: 253.1585 | Train Acc: 0.7912 | Test Acc: 0.7975\n",
            "Epoch  24 | Loss: 239.7630 | Train Acc: 0.7964 | Test Acc: 0.8035\n",
            "Epoch  25 | Loss: 227.7810 | Train Acc: 0.8036 | Test Acc: 0.8098\n",
            "Epoch  26 | Loss: 217.0650 | Train Acc: 0.8091 | Test Acc: 0.8135\n",
            "Epoch  27 | Loss: 207.3435 | Train Acc: 0.8134 | Test Acc: 0.8156\n",
            "Epoch  28 | Loss: 198.6768 | Train Acc: 0.8173 | Test Acc: 0.8193\n",
            "Epoch  29 | Loss: 190.8507 | Train Acc: 0.8217 | Test Acc: 0.8226\n",
            "Epoch  30 | Loss: 183.7335 | Train Acc: 0.8255 | Test Acc: 0.8258\n",
            "Epoch  31 | Loss: 177.2564 | Train Acc: 0.8287 | Test Acc: 0.8298\n",
            "Epoch  32 | Loss: 171.4421 | Train Acc: 0.8316 | Test Acc: 0.8335\n",
            "Epoch  33 | Loss: 166.1489 | Train Acc: 0.8353 | Test Acc: 0.8383\n",
            "Epoch  34 | Loss: 161.2432 | Train Acc: 0.8386 | Test Acc: 0.8406\n",
            "Epoch  35 | Loss: 156.7406 | Train Acc: 0.8411 | Test Acc: 0.8436\n",
            "Epoch  36 | Loss: 152.7272 | Train Acc: 0.8448 | Test Acc: 0.8481\n",
            "Epoch  37 | Loss: 148.8327 | Train Acc: 0.8471 | Test Acc: 0.8503\n",
            "Epoch  38 | Loss: 145.3122 | Train Acc: 0.8496 | Test Acc: 0.8527\n",
            "Epoch  39 | Loss: 142.0130 | Train Acc: 0.8515 | Test Acc: 0.8553\n",
            "Epoch  40 | Loss: 139.0062 | Train Acc: 0.8530 | Test Acc: 0.8567\n",
            "Epoch  41 | Loss: 136.1578 | Train Acc: 0.8562 | Test Acc: 0.8590\n",
            "Epoch  42 | Loss: 133.5040 | Train Acc: 0.8584 | Test Acc: 0.8611\n",
            "Epoch  43 | Loss: 131.0510 | Train Acc: 0.8604 | Test Acc: 0.8629\n",
            "Epoch  44 | Loss: 128.8193 | Train Acc: 0.8619 | Test Acc: 0.8642\n",
            "Epoch  45 | Loss: 126.5181 | Train Acc: 0.8639 | Test Acc: 0.8658\n",
            "Epoch  46 | Loss: 124.4428 | Train Acc: 0.8654 | Test Acc: 0.8669\n",
            "Epoch  47 | Loss: 122.4475 | Train Acc: 0.8670 | Test Acc: 0.8693\n",
            "Epoch  48 | Loss: 120.6724 | Train Acc: 0.8686 | Test Acc: 0.8713\n",
            "Epoch  49 | Loss: 118.9336 | Train Acc: 0.8698 | Test Acc: 0.8726\n",
            "Epoch  50 | Loss: 117.3133 | Train Acc: 0.8709 | Test Acc: 0.8757\n",
            "Epoch  51 | Loss: 115.7111 | Train Acc: 0.8721 | Test Acc: 0.8776\n",
            "Epoch  52 | Loss: 114.2920 | Train Acc: 0.8733 | Test Acc: 0.8789\n",
            "Epoch  53 | Loss: 112.7713 | Train Acc: 0.8748 | Test Acc: 0.8805\n",
            "Epoch  54 | Loss: 111.4029 | Train Acc: 0.8759 | Test Acc: 0.8806\n",
            "Epoch  55 | Loss: 110.1750 | Train Acc: 0.8770 | Test Acc: 0.8813\n",
            "Epoch  56 | Loss: 108.8358 | Train Acc: 0.8777 | Test Acc: 0.8822\n",
            "Epoch  57 | Loss: 107.6361 | Train Acc: 0.8791 | Test Acc: 0.8829\n",
            "Epoch  58 | Loss: 106.6744 | Train Acc: 0.8801 | Test Acc: 0.8846\n",
            "Epoch  59 | Loss: 105.5506 | Train Acc: 0.8810 | Test Acc: 0.8854\n",
            "Epoch  60 | Loss: 104.5162 | Train Acc: 0.8818 | Test Acc: 0.8868\n",
            "Epoch  61 | Loss: 103.4940 | Train Acc: 0.8822 | Test Acc: 0.8867\n",
            "Epoch  62 | Loss: 102.5726 | Train Acc: 0.8831 | Test Acc: 0.8876\n",
            "Epoch  63 | Loss: 101.6240 | Train Acc: 0.8840 | Test Acc: 0.8883\n",
            "Epoch  64 | Loss: 100.8763 | Train Acc: 0.8843 | Test Acc: 0.8888\n",
            "Epoch  65 | Loss: 99.9762 | Train Acc: 0.8855 | Test Acc: 0.8901\n",
            "Epoch  66 | Loss: 99.0705 | Train Acc: 0.8864 | Test Acc: 0.8911\n",
            "Epoch  67 | Loss: 98.3757 | Train Acc: 0.8872 | Test Acc: 0.8905\n",
            "Epoch  68 | Loss: 97.5587 | Train Acc: 0.8879 | Test Acc: 0.8913\n",
            "Epoch  69 | Loss: 96.8714 | Train Acc: 0.8883 | Test Acc: 0.8918\n",
            "Epoch  70 | Loss: 96.1776 | Train Acc: 0.8892 | Test Acc: 0.8921\n",
            "Epoch  71 | Loss: 95.4159 | Train Acc: 0.8897 | Test Acc: 0.8933\n",
            "Epoch  72 | Loss: 94.8429 | Train Acc: 0.8902 | Test Acc: 0.8928\n",
            "Epoch  73 | Loss: 94.2876 | Train Acc: 0.8906 | Test Acc: 0.8941\n",
            "Epoch  74 | Loss: 93.5645 | Train Acc: 0.8913 | Test Acc: 0.8947\n",
            "Epoch  75 | Loss: 93.0128 | Train Acc: 0.8918 | Test Acc: 0.8950\n",
            "Epoch  76 | Loss: 92.4307 | Train Acc: 0.8923 | Test Acc: 0.8958\n",
            "Epoch  77 | Loss: 91.8084 | Train Acc: 0.8930 | Test Acc: 0.8967\n",
            "Epoch  78 | Loss: 91.3187 | Train Acc: 0.8938 | Test Acc: 0.8972\n",
            "Epoch  79 | Loss: 90.7805 | Train Acc: 0.8943 | Test Acc: 0.8974\n",
            "Epoch  80 | Loss: 90.2262 | Train Acc: 0.8945 | Test Acc: 0.8977\n",
            "Epoch  81 | Loss: 89.8215 | Train Acc: 0.8951 | Test Acc: 0.8982\n",
            "Epoch  82 | Loss: 89.2567 | Train Acc: 0.8955 | Test Acc: 0.8989\n",
            "Epoch  83 | Loss: 88.8593 | Train Acc: 0.8957 | Test Acc: 0.8993\n",
            "Epoch  84 | Loss: 88.4313 | Train Acc: 0.8962 | Test Acc: 0.8996\n",
            "Epoch  85 | Loss: 87.9244 | Train Acc: 0.8966 | Test Acc: 0.9000\n",
            "Epoch  86 | Loss: 87.5495 | Train Acc: 0.8969 | Test Acc: 0.8999\n",
            "Epoch  87 | Loss: 87.1066 | Train Acc: 0.8975 | Test Acc: 0.9006\n",
            "Epoch  88 | Loss: 86.6253 | Train Acc: 0.8978 | Test Acc: 0.9009\n",
            "Epoch  89 | Loss: 86.2498 | Train Acc: 0.8980 | Test Acc: 0.9016\n",
            "Epoch  90 | Loss: 85.9131 | Train Acc: 0.8984 | Test Acc: 0.9020\n",
            "Epoch  91 | Loss: 85.4518 | Train Acc: 0.8987 | Test Acc: 0.9027\n",
            "Epoch  92 | Loss: 85.1518 | Train Acc: 0.8992 | Test Acc: 0.9026\n",
            "Epoch  93 | Loss: 84.7555 | Train Acc: 0.8995 | Test Acc: 0.9030\n",
            "Epoch  94 | Loss: 84.4275 | Train Acc: 0.8997 | Test Acc: 0.9031\n",
            "Epoch  95 | Loss: 84.0274 | Train Acc: 0.9002 | Test Acc: 0.9034\n",
            "Epoch  96 | Loss: 83.6816 | Train Acc: 0.9003 | Test Acc: 0.9038\n",
            "Epoch  97 | Loss: 83.3955 | Train Acc: 0.9008 | Test Acc: 0.9039\n",
            "Epoch  98 | Loss: 83.0239 | Train Acc: 0.9011 | Test Acc: 0.9045\n",
            "Epoch  99 | Loss: 82.6760 | Train Acc: 0.9013 | Test Acc: 0.9044\n"
          ]
        }
      ]
    },
    {
      "cell_type": "code",
      "source": [
        "def plot_acc(train_accs, test_accs, label1='train', label2='test'):\n",
        "    x = np.arange(len(train_accs))\n",
        "\n",
        "    plt.plot(x, train_accs, label=label1)\n",
        "    plt.plot(x, test_accs, label=label2)\n",
        "\n",
        "    plt.xlabel(\"Epoch\")\n",
        "    plt.ylabel(\"Accuracy\")\n",
        "    plt.legend()\n",
        "    plt.title(\"Train vs Test Accuracy\")\n",
        "    plt.show()\n",
        "\n",
        "plot_acc(train_accs, test_accs)"
      ],
      "metadata": {
        "colab": {
          "base_uri": "https://localhost:8080/",
          "height": 472
        },
        "id": "9xHlm0XL3mH5",
        "outputId": "302a84a0-a898-4048-b540-42df4d6cdab8"
      },
      "execution_count": 8,
      "outputs": [
        {
          "output_type": "display_data",
          "data": {
            "text/plain": [
              "<Figure size 640x480 with 1 Axes>"
            ],
            "image/png": "[encoded data removed]"
          },
          "metadata": {}
        }
      ]
    }
  ]
}